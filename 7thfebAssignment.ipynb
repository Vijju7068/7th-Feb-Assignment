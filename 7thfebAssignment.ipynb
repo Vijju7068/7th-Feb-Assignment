{
 "cells": [
  {
   "cell_type": "markdown",
   "id": "0303ca86-147f-4151-8b72-a72457694c92",
   "metadata": {},
   "source": [
    "# Q1. You are writing code for a company. The requirement of the company is that you create a python\n",
    "# function that will check whether the password entered by the user is correct or not. The function should\n",
    "# take the password as input and return the string “Valid Password” if the entered password follows the\n",
    "# below-given password guidelines else it should return “Invalid Password”.\n",
    "\n",
    "# Note: 1. The Password should contain at least two uppercase letters and at least two lowercase letters.\n",
    "# 2. The Password should contain at least a number and three special characters.\n",
    "# 3. The length of the password should be 10 characters long."
   ]
  },
  {
   "cell_type": "code",
   "execution_count": 8,
   "id": "e2c100b8-63ec-42d0-a572-925a395028b5",
   "metadata": {},
   "outputs": [
    {
     "name": "stdin",
     "output_type": "stream",
     "text": [
      "Enter your password :  12@@@vvVV1\n"
     ]
    },
    {
     "name": "stdout",
     "output_type": "stream",
     "text": [
      "Valid Password\n"
     ]
    }
   ],
   "source": [
    "def check_password(password):\n",
    "    \n",
    "    str_upper = sum(1 for i in password if i.upper())\n",
    "    str_lower = sum(1 for i in password if i.lower())\n",
    "    \n",
    "    check_num = sum(1 for i in password if i.isdigit())\n",
    "    check_special = sum(1 for i in password if i.isalnum())\n",
    "    \n",
    "    if str_upper >=2 and str_lower >=2 and check_num >=1 and check_special >=3 and len(password) ==10:\n",
    "        return \"Valid Password\"\n",
    "    else:\n",
    "        return \"Invalid Password\"\n",
    "    \n",
    "    \n",
    "    \n",
    "password = input(\"Enter your password : \")\n",
    "print(check_password(password))"
   ]
  },
  {
   "cell_type": "markdown",
   "id": "8b4cedd7-d7ee-43ce-a936-b9eb82e9152d",
   "metadata": {},
   "source": [
    "# Q2. Solve the below-given questions using at least one of the following:\n",
    "# 1. Lambda functio\n",
    "# 2. Filter functio\n",
    "# 3. Zap functio\n",
    "# 4. List Comprehensio\n",
    "# B Check if the string starts with a particular letter\n",
    "# B Check if the string is numeric\n",
    "# B Sort a list of tuples having fruit names and their quantity. [(\"mango\",99),(\"orange\",80), (\"grapes\", 1000)-\n",
    "# B Find the squares of numbers from 1 to 10\n",
    "# B Find the cube root of numbers from 1 to 10\n",
    "# B Check if a given number is even\n",
    "# B Filter odd numbers from the given list.\n",
    "# [1,2,3,4,5,6,7,8,9,10-\n",
    "# B Sort a list of integers into positive and negative integers lists.\n",
    "# [1,2,3,4,5,6,-1,-2,-3,-4,-5,0]"
   ]
  },
  {
   "cell_type": "code",
   "execution_count": null,
   "id": "69d50ca2-dd96-4ef3-aeaf-0dc87c547ae0",
   "metadata": {},
   "outputs": [
    {
     "name": "stdout",
     "output_type": "stream",
     "text": [
      "True\n"
     ]
    }
   ],
   "source": [
    "#1st ans\n",
    "\n",
    "\n",
    "name= \"Vijju\"\n",
    "check = \"V\"\n",
    "check_name = name.startswith(check)\n",
    "print(check_name)"
   ]
  },
  {
   "cell_type": "code",
   "execution_count": 20,
   "id": "f2d3cfd7-1e05-4cc1-9aca-f09e19094665",
   "metadata": {},
   "outputs": [
    {
     "name": "stdout",
     "output_type": "stream",
     "text": [
      "True\n"
     ]
    }
   ],
   "source": [
    "#2nd Ans\n",
    "\n",
    "num= \"1234\"\n",
    "\n",
    "check_name = num.isnumeric()\n",
    "print(check_name)   "
   ]
  },
  {
   "cell_type": "code",
   "execution_count": 21,
   "id": "09bafb55-8cde-4560-92ff-49ed91a5c690",
   "metadata": {},
   "outputs": [
    {
     "name": "stdout",
     "output_type": "stream",
     "text": [
      "[('orange', 80), ('mango', 99), ('grapes', 1000)]\n"
     ]
    }
   ],
   "source": [
    "#3rd\n",
    "\n",
    "fruits = [(\"mango\",99),(\"orange\",80), (\"grapes\", 1000)]\n",
    "\n",
    "sorted_fruits = sorted(fruits, key=lambda x: x[1])\n",
    "print(sorted_fruits)\n"
   ]
  },
  {
   "cell_type": "code",
   "execution_count": 22,
   "id": "85efc983-08fc-479b-9570-51e6d57e5d43",
   "metadata": {},
   "outputs": [
    {
     "data": {
      "text/plain": [
       "[1, 4, 9, 16, 25, 36, 49, 64, 81, 100]"
      ]
     },
     "execution_count": 22,
     "metadata": {},
     "output_type": "execute_result"
    }
   ],
   "source": [
    "#4th\n",
    "\n",
    "[i**2 for i in range(1,11) ]"
   ]
  },
  {
   "cell_type": "code",
   "execution_count": 23,
   "id": "4b726a07-6341-4d40-a005-c429005c6872",
   "metadata": {},
   "outputs": [
    {
     "data": {
      "text/plain": [
       "[1, 8, 27, 64, 125, 216, 343, 512, 729, 1000]"
      ]
     },
     "execution_count": 23,
     "metadata": {},
     "output_type": "execute_result"
    }
   ],
   "source": [
    "#5th\n",
    "[i**3 for i in range(1,11) ]"
   ]
  },
  {
   "cell_type": "code",
   "execution_count": 30,
   "id": "b2a71ec5-134f-4f72-99ab-6264ee6eb980",
   "metadata": {},
   "outputs": [
    {
     "name": "stdin",
     "output_type": "stream",
     "text": [
      "Enter your number :  6\n"
     ]
    },
    {
     "name": "stdout",
     "output_type": "stream",
     "text": [
      "6 is a even number\n"
     ]
    }
   ],
   "source": [
    "#6th\n",
    "\n",
    "numm = int(input(\"Enter your number : \"))\n",
    "\n",
    "if numm%2==0:\n",
    "    print(numm,\"is a even number\")\n",
    "else:\n",
    "    print(numm,\"is not a even number\")\n",
    "    "
   ]
  },
  {
   "cell_type": "code",
   "execution_count": 35,
   "id": "f09fd112-f990-4bd9-a9cb-79fb6ec3c0cd",
   "metadata": {},
   "outputs": [
    {
     "name": "stdout",
     "output_type": "stream",
     "text": [
      "[1, 3, 5, 7, 9]\n"
     ]
    }
   ],
   "source": [
    "# 7th\n",
    "\n",
    "#Filter odd numbers from the given list.\n",
    "\n",
    "\n",
    "lst = [1,2,3,4,5,6,7,8,9,10]\n",
    "odd_num = [i for i in lst if i%2 !=0]\n",
    "print(odd_num)"
   ]
  },
  {
   "cell_type": "code",
   "execution_count": null,
   "id": "62f4aac7-99c2-4104-a040-36aeb3413bc7",
   "metadata": {},
   "outputs": [],
   "source": []
  }
 ],
 "metadata": {
  "kernelspec": {
   "display_name": "Python 3 (ipykernel)",
   "language": "python",
   "name": "python3"
  },
  "language_info": {
   "codemirror_mode": {
    "name": "ipython",
    "version": 3
   },
   "file_extension": ".py",
   "mimetype": "text/x-python",
   "name": "python",
   "nbconvert_exporter": "python",
   "pygments_lexer": "ipython3",
   "version": "3.10.8"
  }
 },
 "nbformat": 4,
 "nbformat_minor": 5
}
